{
 "cells": [
  {
   "cell_type": "code",
   "execution_count": null,
   "metadata": {},
   "outputs": [],
   "source": [
    "t = 1\n",
    "computer_point = 0\n",
    "your_point = 0\n",
    "while t<=10:\n",
    "    import random\n",
    "    list1 = ['Rock' , 'Paper' , 'Scissors']\n",
    "    random = random.choice(list1)\n",
    "    print(random)\n",
    "    \n",
    "    your_turn = input(\"press R for rock, press P for paper , press S for scissors\")\n",
    "    \n",
    "    if random==your_turn:\n",
    "        print(\"draw\")\n",
    "    elif random=='R' and your_turn==\"P\":\n",
    "        your_point+=1\n",
    "        print(f\"you guess {your_turn} and computer guess {random} \\n\")\n",
    "        print('you win 1 point \\n')\n",
    "    elif random=='R' and your_turn==\"S\":\n",
    "        computer_point+=1\n",
    "        print(f\"you guess {your_turn} and computer guess {random} \\n\")\n",
    "        print('computer win 1 point \\n')\n",
    "    elif random=='P' and your_turn==\"R\":\n",
    "        computer_point+=1\n",
    "        print(f\"you guess {your_turn} and computer guess {random} \\n\")\n",
    "        print('computer win 1 point \\n')\n",
    "    elif random=='P' and your_turn==\"S\":\n",
    "        your_point+=1\n",
    "        print(f\"you guess {your_turn} and computer guess {random} \\n\")\n",
    "        print('you win 1 point \\n')\n",
    "    elif random=='S' and your_turn==\"P\":\n",
    "        computer_point+=1\n",
    "        print(f\"you guess {your_turn} and computer guess {random} \\n\")\n",
    "        print('computer win 1 point \\n')\n",
    "    elif random=='S' and your_turn==\"R\":\n",
    "        your_point+=1\n",
    "        print(f\"you guess {your_turn} and computer guess {random} \\n\")\n",
    "        print('you win 1 point \\n')\n",
    "    else:\n",
    "        print(\"please check your input\")\n",
    "        \n",
    "    t+=1\n",
    "    "
   ]
  },
  {
   "cell_type": "code",
   "execution_count": 7,
   "metadata": {},
   "outputs": [
    {
     "name": "stdout",
     "output_type": "stream",
     "text": [
      "['Scissors']\n"
     ]
    }
   ],
   "source": [
    "import random\n",
    "list1 = ['Rock' , 'Paper' , 'Scissors']\n",
    "c = random.choices(list1)\n",
    "print(c)"
   ]
  },
  {
   "cell_type": "code",
   "execution_count": null,
   "metadata": {},
   "outputs": [],
   "source": []
  },
  {
   "cell_type": "code",
   "execution_count": null,
   "metadata": {},
   "outputs": [],
   "source": []
  }
 ],
 "metadata": {
  "kernelspec": {
   "display_name": "Python 3",
   "language": "python",
   "name": "python3"
  },
  "language_info": {
   "codemirror_mode": {
    "name": "ipython",
    "version": 3
   },
   "file_extension": ".py",
   "mimetype": "text/x-python",
   "name": "python",
   "nbconvert_exporter": "python",
   "pygments_lexer": "ipython3",
   "version": "3.9.0"
  }
 },
 "nbformat": 4,
 "nbformat_minor": 4
}
